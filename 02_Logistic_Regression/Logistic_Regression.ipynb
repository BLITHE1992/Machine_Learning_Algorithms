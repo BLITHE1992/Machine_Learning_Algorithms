{
  "nbformat": 4,
  "nbformat_minor": 0,
  "metadata": {
    "colab": {
      "name": "Logistic Regression.ipynb",
      "provenance": [],
      "collapsed_sections": []
    },
    "kernelspec": {
      "name": "python3",
      "display_name": "Python 3"
    }
  },
  "cells": [
    {
      "cell_type": "markdown",
      "metadata": {
        "id": "EeWekSPEB-Y-",
        "colab_type": "text"
      },
      "source": [
        "## **Logistic Regression**\n",
        "\n",
        "Logistic regression is a statistical model that in its basic form uses a logistic function to model a binary dependent variable, although many more complex extensions exist. In regression analysis, logistic regression (or logit regression) is estimating the parameters of a logistic model (a form of binary regression).\n",
        "\n",
        "For Example: spam detection for emails, predicting if a customer will default in a loan, etc.\n",
        "\n",
        "By [Muhammad Huzaifa Shahbaz](https://www.linkedin.com/in/mhuzaifadev)"
      ]
    },
    {
      "cell_type": "markdown",
      "metadata": {
        "id": "fRehRCOpBXAB",
        "colab_type": "text"
      },
      "source": [
        "## **Importing libraries**\n",
        "\n",
        "We will import Pandas as *pd*, train_test_split from sklearn.model_selection, confusion_matrix & accuracy_score from sklearn.metrics and Logistic Regression from sklearn.linear_model.   "
      ]
    },
    {
      "cell_type": "code",
      "metadata": {
        "id": "j1UhjdP0B6m7",
        "colab_type": "code",
        "colab": {}
      },
      "source": [
        "import pandas as pd\n",
        "from sklearn.linear_model import LogisticRegression\n",
        "from sklearn.model_selection import train_test_split\n",
        "from sklearn.metrics import confusion_matrix\n",
        "from sklearn.metrics import accuracy_score"
      ],
      "execution_count": 0,
      "outputs": []
    },
    {
      "cell_type": "markdown",
      "metadata": {
        "id": "PsAOn1BiC-_o",
        "colab_type": "text"
      },
      "source": [
        "## **DataFraming**\n",
        "\n",
        "Read .csv data into a Dataframe "
      ]
    },
    {
      "cell_type": "code",
      "metadata": {
        "id": "A9gmwPuuDTq7",
        "colab_type": "code",
        "colab": {
          "base_uri": "https://localhost:8080/",
          "height": 527
        },
        "outputId": "3c95a830-36ec-4651-dc88-43de30614140"
      },
      "source": [
        "creditData = pd.read_csv(\"./titanic.xls\")\n",
        "print(creditData.head())\n",
        "print(creditData.describe())\n",
        "print(creditData.corr())"
      ],
      "execution_count": 13,
      "outputs": [
        {
          "output_type": "stream",
          "text": [
            "   Survived  Pclass  ...  Parents/Children Aboard     Fare\n",
            "0         0       3  ...                        0   7.2500\n",
            "1         1       1  ...                        0  71.2833\n",
            "2         1       3  ...                        0   7.9250\n",
            "3         1       1  ...                        0  53.1000\n",
            "4         0       3  ...                        0   8.0500\n",
            "\n",
            "[5 rows x 7 columns]\n",
            "         Survived      Pclass  ...  Parents/Children Aboard       Fare\n",
            "count  887.000000  887.000000  ...               887.000000  887.00000\n",
            "mean     0.385569    2.305524  ...                 0.383315   32.30542\n",
            "std      0.487004    0.836662  ...                 0.807466   49.78204\n",
            "min      0.000000    1.000000  ...                 0.000000    0.00000\n",
            "25%      0.000000    2.000000  ...                 0.000000    7.92500\n",
            "50%      0.000000    3.000000  ...                 0.000000   14.45420\n",
            "75%      1.000000    3.000000  ...                 0.000000   31.13750\n",
            "max      1.000000    3.000000  ...                 6.000000  512.32920\n",
            "\n",
            "[8 rows x 7 columns]\n",
            "                         Survived    Pclass  ...  Parents/Children Aboard      Fare\n",
            "Survived                 1.000000 -0.336528  ...                 0.080097  0.256179\n",
            "Pclass                  -0.336528  1.000000  ...                 0.020252 -0.548919\n",
            "Sex                     -0.542152  0.129507  ...                -0.244337 -0.181137\n",
            "Age                     -0.059665 -0.391492  ...                -0.193741  0.112329\n",
            "Siblings/Spouses Aboard -0.037082  0.085026  ...                 0.414244  0.158839\n",
            "Parents/Children Aboard  0.080097  0.020252  ...                 1.000000  0.215470\n",
            "Fare                     0.256179 -0.548919  ...                 0.215470  1.000000\n",
            "\n",
            "[7 rows x 7 columns]\n"
          ],
          "name": "stdout"
        }
      ]
    },
    {
      "cell_type": "markdown",
      "metadata": {
        "id": "N0c60VUJEfr-",
        "colab_type": "text"
      },
      "source": [
        "## **Features Extraction**\n",
        "\n",
        "Extracting features and splitting data into test and train."
      ]
    },
    {
      "cell_type": "code",
      "metadata": {
        "id": "2KYihcjTE067",
        "colab_type": "code",
        "colab": {}
      },
      "source": [
        "features = creditData[[\"Sex\",\"Age\",\"Pclass\"]]\n",
        "target = creditData[[\"Survived\"]]\n",
        "\n",
        "feature_train, feature_test, target_train, target_test = train_test_split(features,target)"
      ],
      "execution_count": 0,
      "outputs": []
    },
    {
      "cell_type": "markdown",
      "metadata": {
        "id": "nHxk6jzYLx0m",
        "colab_type": "text"
      },
      "source": [
        "## **Training the Model**\n",
        "\n",
        "We are using Logistic regression model as imported from sklearn library and then it's being trained on feature_train and target_train"
      ]
    },
    {
      "cell_type": "code",
      "metadata": {
        "id": "zcVLyHh3L5Rv",
        "colab_type": "code",
        "colab": {
          "base_uri": "https://localhost:8080/",
          "height": 72
        },
        "outputId": "3e52b837-ceab-4b49-e0dc-025588880736"
      },
      "source": [
        "model = LogisticRegression()\n",
        "model.fit = model.fit(feature_train, target_train)\n",
        "predictions = model.fit.predict(feature_test)"
      ],
      "execution_count": 21,
      "outputs": [
        {
          "output_type": "stream",
          "text": [
            "/usr/local/lib/python3.6/dist-packages/sklearn/utils/validation.py:760: DataConversionWarning: A column-vector y was passed when a 1d array was expected. Please change the shape of y to (n_samples, ), for example using ravel().\n",
            "  y = column_or_1d(y, warn=True)\n"
          ],
          "name": "stderr"
        }
      ]
    },
    {
      "cell_type": "markdown",
      "metadata": {
        "id": "tFBsaZpeMdIa",
        "colab_type": "text"
      },
      "source": [
        "## **Printing an Error Matrix and Accuracy Score**"
      ]
    },
    {
      "cell_type": "code",
      "metadata": {
        "id": "urqzo3v7MzYp",
        "colab_type": "code",
        "colab": {
          "base_uri": "https://localhost:8080/",
          "height": 70
        },
        "outputId": "4c38340a-d31e-4d14-ec18-2d22ab6b47a4"
      },
      "source": [
        "print(confusion_matrix(target_test,predictions))\n",
        "print(accuracy_score(target_test,predictions))"
      ],
      "execution_count": 22,
      "outputs": [
        {
          "output_type": "stream",
          "text": [
            "[[128  18]\n",
            " [ 18  58]]\n",
            "0.8378378378378378\n"
          ],
          "name": "stdout"
        }
      ]
    }
  ]
}