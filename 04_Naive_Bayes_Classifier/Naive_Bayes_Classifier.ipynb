{
  "nbformat": 4,
  "nbformat_minor": 0,
  "metadata": {
    "colab": {
      "name": "Naive_Bayes Classifier.ipynb",
      "provenance": [],
      "collapsed_sections": []
    },
    "kernelspec": {
      "name": "python3",
      "display_name": "Python 3"
    }
  },
  "cells": [
    {
      "cell_type": "markdown",
      "metadata": {
        "id": "7AqXLpH1eh0r",
        "colab_type": "text"
      },
      "source": [
        "# **Naive Bayes Classifier**\n",
        "\n",
        "Naive Bayes classifiers are a collection of classification algorithms based on Bayes' Theorem. It is not a single algorithm but a family of algorithms where all of them share a common principle, i.e. every pair of features being classified is independent of each other.\n",
        "\n",
        "By [Muhammad Huzaifa Shahbaz](https://www.linkedin.com/in/mhuzaifadev)"
      ]
    },
    {
      "cell_type": "markdown",
      "metadata": {
        "id": "EkXtM692ev1u",
        "colab_type": "text"
      },
      "source": [
        "## **Importing libraries**\n",
        "\n",
        "We will import Pandas as *pd*, train_test_split from sklearn.model_selection, confusion_matrix & accuracy_score from sklearn.metrics and GaussianNB from sklearn.naive_bayes."
      ]
    },
    {
      "cell_type": "code",
      "metadata": {
        "id": "hewapbOjdYLB",
        "colab_type": "code",
        "colab": {}
      },
      "source": [
        "import pandas as pd\n",
        "from sklearn.naive_bayes import GaussianNB\n",
        "from sklearn.model_selection import train_test_split\n",
        "from sklearn.metrics import confusion_matrix\n",
        "from sklearn.metrics import accuracy_score"
      ],
      "execution_count": 0,
      "outputs": []
    },
    {
      "cell_type": "markdown",
      "metadata": {
        "id": "PsAOn1BiC-_o",
        "colab_type": "text"
      },
      "source": [
        "## **DataFraming**\n",
        "\n",
        "Read .csv data into a Dataframe "
      ]
    },
    {
      "cell_type": "code",
      "metadata": {
        "id": "A9gmwPuuDTq7",
        "colab_type": "code",
        "outputId": "8a4009cd-79d1-4487-e057-e5da813dffce",
        "colab": {
          "base_uri": "https://localhost:8080/",
          "height": 439
        }
      },
      "source": [
        "data = pd.read_csv(\"/content/sample_data/credit_data.csv\")\n",
        "print(data.head())\n",
        "print(data.describe())\n",
        "print(data.corr())"
      ],
      "execution_count": 3,
      "outputs": [
        {
          "output_type": "stream",
          "text": [
            "   clientid        income        age         loan       LTI  default\n",
            "0         1  66155.925095  59.017015  8106.532131  0.122537        0\n",
            "1         2  34415.153966  48.117153  6564.745018  0.190752        0\n",
            "2         3  57317.170063  63.108049  8020.953296  0.139940        0\n",
            "3         4  42709.534201  45.751972  6103.642260  0.142911        0\n",
            "4         5  66952.688845  18.584336  8770.099235  0.130989        1\n",
            "          clientid        income  ...          LTI      default\n",
            "count  2000.000000   2000.000000  ...  2000.000000  2000.000000\n",
            "mean   1000.500000  45331.600018  ...     0.098403     0.141500\n",
            "std     577.494589  14326.327119  ...     0.057620     0.348624\n",
            "min       1.000000  20014.489470  ...     0.000049     0.000000\n",
            "25%     500.750000  32796.459717  ...     0.047903     0.000000\n",
            "50%    1000.500000  45789.117313  ...     0.099437     0.000000\n",
            "75%    1500.250000  57791.281668  ...     0.147585     0.000000\n",
            "max    2000.000000  69995.685578  ...     0.199938     1.000000\n",
            "\n",
            "[8 rows x 6 columns]\n",
            "          clientid    income       age      loan       LTI   default\n",
            "clientid  1.000000  0.039280 -0.030341  0.018931  0.002538 -0.020145\n",
            "income    0.039280  1.000000 -0.034984  0.441117 -0.019862  0.002284\n",
            "age      -0.030341 -0.034984  1.000000  0.006561  0.021588 -0.444765\n",
            "loan      0.018931  0.441117  0.006561  1.000000  0.847495  0.377160\n",
            "LTI       0.002538 -0.019862  0.021588  0.847495  1.000000  0.433261\n",
            "default  -0.020145  0.002284 -0.444765  0.377160  0.433261  1.000000\n"
          ],
          "name": "stdout"
        }
      ]
    },
    {
      "cell_type": "markdown",
      "metadata": {
        "id": "N0c60VUJEfr-",
        "colab_type": "text"
      },
      "source": [
        "## **Features Extraction**\n",
        "\n",
        "Extracting features and splitting data into test and train."
      ]
    },
    {
      "cell_type": "code",
      "metadata": {
        "id": "X4X2kjPahc0V",
        "colab_type": "code",
        "colab": {}
      },
      "source": [
        "data.features = data[[\"income\",\"age\",\"loan\"]]\n",
        "data.target = data.default\n",
        "\n",
        "feature_train, feature_test, target_train, target_test = train_test_split(data.features,data.target)"
      ],
      "execution_count": 0,
      "outputs": []
    },
    {
      "cell_type": "markdown",
      "metadata": {
        "id": "nHxk6jzYLx0m",
        "colab_type": "text"
      },
      "source": [
        "## **Training the Model**\n",
        "\n",
        "We are using GaussianNB model as imported from sklearn.naive_bayes library and then it's being trained on feature_train and target_train"
      ]
    },
    {
      "cell_type": "code",
      "metadata": {
        "id": "zcVLyHh3L5Rv",
        "colab_type": "code",
        "colab": {}
      },
      "source": [
        "model = GaussianNB()\n",
        "fitModel = model.fit(feature_train, target_train)\n",
        "predictions = fitModel.predict(feature_test)"
      ],
      "execution_count": 0,
      "outputs": []
    },
    {
      "cell_type": "markdown",
      "metadata": {
        "id": "tFBsaZpeMdIa",
        "colab_type": "text"
      },
      "source": [
        "## **Printing an Error Matrix and Accuracy Score**"
      ]
    },
    {
      "cell_type": "code",
      "metadata": {
        "id": "urqzo3v7MzYp",
        "colab_type": "code",
        "outputId": "33289bcf-32b1-4e83-b511-f134d47b2781",
        "colab": {
          "base_uri": "https://localhost:8080/",
          "height": 70
        }
      },
      "source": [
        "print(confusion_matrix(target_test,predictions))\n",
        "print(accuracy_score(target_test,predictions))"
      ],
      "execution_count": 7,
      "outputs": [
        {
          "output_type": "stream",
          "text": [
            "[[415  12]\n",
            " [ 29  44]]\n",
            "0.918\n"
          ],
          "name": "stdout"
        }
      ]
    }
  ]
}