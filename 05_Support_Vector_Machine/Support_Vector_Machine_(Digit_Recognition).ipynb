{
  "nbformat": 4,
  "nbformat_minor": 0,
  "metadata": {
    "colab": {
      "name": "Copy of Support_Vector_Machine (Digit_Recognition).ipynb",
      "provenance": [],
      "collapsed_sections": []
    },
    "kernelspec": {
      "name": "python3",
      "display_name": "Python 3"
    }
  },
  "cells": [
    {
      "cell_type": "markdown",
      "metadata": {
        "id": "HFenp3yV-gcO",
        "colab_type": "text"
      },
      "source": [
        "## **Support Vector Machine (SVM)**\n",
        "\n",
        "A support vector machine (SVM) is a supervised machine learning model that uses classification algorithms for two-group classification problems. After giving an SVM model sets of labeled training data for each category, they're able to categorize new text.\n",
        "\n",
        "By [Muhammad Huzaifa Shahbaz](https://www.linkedin.com/in/mhuzaifadev)"
      ]
    },
    {
      "cell_type": "markdown",
      "metadata": {
        "id": "EkXtM692ev1u",
        "colab_type": "text"
      },
      "source": [
        "## **Importing libraries**\n"
      ]
    },
    {
      "cell_type": "code",
      "metadata": {
        "id": "hewapbOjdYLB",
        "colab_type": "code",
        "colab": {}
      },
      "source": [
        "import numpy as np\n",
        "import pandas as pd\n",
        "import matplotlib.pyplot as plt\n",
        "import matplotlib.cm as cm\n",
        "from sklearn import svm, datasets, metrics\n",
        "from sklearn.model_selection import train_test_split\n",
        "from sklearn.metrics import accuracy_score"
      ],
      "execution_count": 0,
      "outputs": []
    },
    {
      "cell_type": "markdown",
      "metadata": {
        "id": "PsAOn1BiC-_o",
        "colab_type": "text"
      },
      "source": [
        "### **Digits Loading**\n",
        "\n",
        "Loading data from sklearn datasets"
      ]
    },
    {
      "cell_type": "code",
      "metadata": {
        "id": "6djJF7NEAx_I",
        "colab_type": "code",
        "colab": {}
      },
      "source": [
        "digits = datasets.load_digits()\n",
        "#print(digits)\n",
        "images_and_labels = list(zip(digits.images,digits.target))"
      ],
      "execution_count": 0,
      "outputs": []
    },
    {
      "cell_type": "markdown",
      "metadata": {
        "id": "N0c60VUJEfr-",
        "colab_type": "text"
      },
      "source": [
        "## **Flattening the Images**\n",
        "\n",
        "To apply a classifier on this data, we need to flatten the images to turn the data into (samples, features) matrix."
      ]
    },
    {
      "cell_type": "code",
      "metadata": {
        "id": "pwLzYvYWBQcQ",
        "colab_type": "code",
        "colab": {}
      },
      "source": [
        "n_samples = len(digits.images)\n",
        "data = digits.images.reshape((n_samples, -1))"
      ],
      "execution_count": 0,
      "outputs": []
    },
    {
      "cell_type": "markdown",
      "metadata": {
        "id": "nHxk6jzYLx0m",
        "colab_type": "text"
      },
      "source": [
        "## **Training the Model**\n",
        "\n",
        "We are using SVM model as imported from sklearn library and then it's being trained on 75% of the digits."
      ]
    },
    {
      "cell_type": "code",
      "metadata": {
        "id": "1eAhZM71COWr",
        "colab_type": "code",
        "colab": {}
      },
      "source": [
        "trainTestSplit = int(n_samples*0.75)\n",
        "model = svm.SVC()\n",
        "model.fit(data[:trainTestSplit], digits.target[:trainTestSplit])\n",
        "target = digits.target[trainTestSplit:]\n",
        "predictions = model.predict(data[trainTestSplit:])"
      ],
      "execution_count": 0,
      "outputs": []
    },
    {
      "cell_type": "markdown",
      "metadata": {
        "id": "tFBsaZpeMdIa",
        "colab_type": "text"
      },
      "source": [
        "## **Printing an Error Matrix and Accuracy Score**"
      ]
    },
    {
      "cell_type": "code",
      "metadata": {
        "id": "urqzo3v7MzYp",
        "colab_type": "code",
        "outputId": "236c2b2d-6eb7-4994-ed81-2a1b917f87aa",
        "colab": {
          "base_uri": "https://localhost:8080/",
          "height": 210
        }
      },
      "source": [
        "print(metrics.confusion_matrix(target,predictions))\n",
        "print(accuracy_score(target,predictions))"
      ],
      "execution_count": 11,
      "outputs": [
        {
          "output_type": "stream",
          "text": [
            "[[42  0  0  0  1  0  0  0  0  0]\n",
            " [ 0 46  0  0  0  0  0  0  0  0]\n",
            " [ 0  0 43  0  0  0  0  0  0  0]\n",
            " [ 0  0  0 37  0  2  0  2  6  0]\n",
            " [ 0  0  0  0 45  0  0  0  1  2]\n",
            " [ 0  0  0  0  0 44  1  0  0  0]\n",
            " [ 0  0  0  0  0  0 47  0  0  0]\n",
            " [ 0  0  0  0  0  0  0 44  1  0]\n",
            " [ 0  2  0  0  0  0  0  0 38  1]\n",
            " [ 0  0  0  1  0  1  0  1  1 41]]\n",
            "0.9488888888888889\n"
          ],
          "name": "stdout"
        }
      ]
    },
    {
      "cell_type": "markdown",
      "metadata": {
        "id": "5E1tYLLJJRSB",
        "colab_type": "text"
      },
      "source": [
        "## **Testing**"
      ]
    },
    {
      "cell_type": "code",
      "metadata": {
        "id": "6VDPd6RDJqxf",
        "colab_type": "code",
        "colab": {
          "base_uri": "https://localhost:8080/",
          "height": 282
        },
        "outputId": "3f17080d-fda6-40fa-bd60-95375186d3cd"
      },
      "source": [
        "plt.imshow(digits.images[-3], cmap = plt.cm.gray_r, interpolation = \"nearest\")\n",
        "print(\"Prediction for test image:\", model.predict(data[-3].reshape(1,-1)))\n",
        "\n",
        "plt.show()"
      ],
      "execution_count": 18,
      "outputs": [
        {
          "output_type": "stream",
          "text": [
            "Prediction for test image: [8]\n"
          ],
          "name": "stdout"
        },
        {
          "output_type": "display_data",
          "data": {
            "image/png": "[encoded data removed]",
            "text/plain": [
              "<Figure size 432x288 with 1 Axes>"
            ]
          },
          "metadata": {
            "tags": [],
            "needs_background": "light"
          }
        }
      ]
    }
  ]
}