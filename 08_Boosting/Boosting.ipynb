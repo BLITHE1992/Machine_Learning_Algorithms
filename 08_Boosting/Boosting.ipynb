{
  "nbformat": 4,
  "nbformat_minor": 0,
  "metadata": {
    "colab": {
      "name": "Boosting.ipynb",
      "provenance": [],
      "collapsed_sections": [],
      "toc_visible": true
    },
    "kernelspec": {
      "name": "python3",
      "display_name": "Python 3"
    },
    "accelerator": "TPU"
  },
  "cells": [
    {
      "cell_type": "markdown",
      "metadata": {
        "id": "HFenp3yV-gcO",
        "colab_type": "text"
      },
      "source": [
        "## **Boosting**\n",
        "\n",
        "In machine learning, boosting is an ensemble meta-algorithm for primarily reducing bias, and also variance in supervised learning, and a family of machine learning algorithms that convert weak learners to strong ones.\n",
        "\n",
        "By [Muhammad Huzaifa Shahbaz](https://www.linkedin.com/in/mhuzaifadev)"
      ]
    },
    {
      "cell_type": "markdown",
      "metadata": {
        "id": "llRj-1Bp_YIW",
        "colab_type": "text"
      },
      "source": [
        "## **Importing Libraries**"
      ]
    },
    {
      "cell_type": "code",
      "metadata": {
        "id": "_Q3IKg22Prjs",
        "colab_type": "code",
        "colab": {}
      },
      "source": [
        "import pandas as pd\n",
        "from sklearn.ensemble import AdaBoostClassifier\n",
        "from sklearn.metrics import accuracy_score, confusion_matrix\n",
        "from sklearn.model_selection import train_test_split, GridSearchCV, cross_val_predict\n",
        "from sklearn import datasets"
      ],
      "execution_count": 0,
      "outputs": []
    },
    {
      "cell_type": "markdown",
      "metadata": {
        "id": "7H35nRxvE4gp",
        "colab_type": "text"
      },
      "source": [
        "## **Dataset Loading**\n",
        "\n",
        "We will load data from the csv dataset"
      ]
    },
    {
      "cell_type": "code",
      "metadata": {
        "id": "eT6Vu1-0F3jF",
        "colab_type": "code",
        "colab": {}
      },
      "source": [
        "data = pd.read_csv(\"./wine.csv\",sep = \";\")"
      ],
      "execution_count": 0,
      "outputs": []
    },
    {
      "cell_type": "markdown",
      "metadata": {
        "id": "9ChKTO43moQK",
        "colab_type": "text"
      },
      "source": [
        "## **Label Filtering Function: isTasty(quality)**\n",
        "\n",
        "Converting regression into logit"
      ]
    },
    {
      "cell_type": "code",
      "metadata": {
        "id": "8qs53wmumpgj",
        "colab_type": "code",
        "colab": {}
      },
      "source": [
        "def isTasty(quality):\n",
        "  if quality >= 7:\n",
        "    return 1\n",
        "  else:\n",
        "    return 0"
      ],
      "execution_count": 0,
      "outputs": []
    },
    {
      "cell_type": "markdown",
      "metadata": {
        "id": "N0c60VUJEfr-",
        "colab_type": "text"
      },
      "source": [
        "## **Features Extraction**\n",
        "\n",
        "To apply a classifier on this data, we need to extract features and target data and split it into test and train."
      ]
    },
    {
      "cell_type": "code",
      "metadata": {
        "id": "CLm4haVcGf-N",
        "colab_type": "code",
        "colab": {}
      },
      "source": [
        "features = data[[\"fixed acidity\",\"volatile acidity\",\"citric acid\",\"residual sugar\",\"chlorides\",\"free sulfur dioxide\",\"total sulfur dioxide\",\"density\",\"pH\",\"sulphates\",\"alcohol\"]]\n",
        "data['tasty'] = data['quality'].apply(isTasty)\n",
        "targets = data['tasty']\n",
        "\n",
        "feature_train, feature_test, target_train, target_test = train_test_split(features,targets,test_size=0.2)"
      ],
      "execution_count": 0,
      "outputs": []
    },
    {
      "cell_type": "markdown",
      "metadata": {
        "id": "avcFhrNaO1TB",
        "colab_type": "text"
      },
      "source": [
        "## **Finding an Optimal Value**\n",
        "\n",
        "It may take upto 45min in execution on Colab or maybe hours in your local desktop, based on processing power."
      ]
    },
    {
      "cell_type": "code",
      "metadata": {
        "id": "CFjn9HyMO1ml",
        "colab_type": "code",
        "outputId": "7e1a906b-744f-447c-869b-348502d5c62c",
        "colab": {
          "base_uri": "https://localhost:8080/",
          "height": 35
        }
      },
      "source": [
        "param_grid = {\n",
        "    'n_estimators' : [50,100,200,300,500,1000],\n",
        "    'learning_rate' : [0.01,0.05,0.1,0.3,1],\n",
        "    }\n",
        "\n",
        "grid_search = GridSearchCV(estimator=AdaBoostClassifier(), param_grid=param_grid,cv=10)\n",
        "grid_search.fit(feature_train, target_train)\n",
        "\n",
        "print(grid_search.best_params_)\n",
        "\n",
        "optimal_estimators = grid_search.best_params_.get(\"n_estimators\")\n",
        "optimal_lrate = grid_search.best_params_.get(\"learning_rate\")"
      ],
      "execution_count": 0,
      "outputs": [
        {
          "output_type": "stream",
          "text": [
            "{'learning_rate': 0.3, 'n_estimators': 300}\n"
          ],
          "name": "stdout"
        }
      ]
    },
    {
      "cell_type": "markdown",
      "metadata": {
        "id": "nHxk6jzYLx0m",
        "colab_type": "text"
      },
      "source": [
        "## **Training the Model**\n",
        "\n",
        "We will use AdaBoostClassifier for training the model."
      ]
    },
    {
      "cell_type": "code",
      "metadata": {
        "id": "1eAhZM71COWr",
        "colab_type": "code",
        "colab": {}
      },
      "source": [
        "best_model = AdaBoostClassifier(n_estimators=optimal_estimators,learning_rate=optimal_lrate)\n",
        "best_model.fit(feature_train, target_train)\n",
        "\n",
        "predictions = best_model.predict(feature_test)"
      ],
      "execution_count": 0,
      "outputs": []
    },
    {
      "cell_type": "markdown",
      "metadata": {
        "id": "tFBsaZpeMdIa",
        "colab_type": "text"
      },
      "source": [
        "## **Printing an Error Matrix and Accuracy Score**"
      ]
    },
    {
      "cell_type": "code",
      "metadata": {
        "id": "urqzo3v7MzYp",
        "colab_type": "code",
        "outputId": "4be01f9b-3308-4b38-df9b-eeb432505f38",
        "colab": {
          "base_uri": "https://localhost:8080/",
          "height": 72
        }
      },
      "source": [
        "print(confusion_matrix(target_test,predictions))\n",
        "print(accuracy_score(target_test,predictions))"
      ],
      "execution_count": 0,
      "outputs": [
        {
          "output_type": "stream",
          "text": [
            "[[717  45]\n",
            " [135  83]]\n",
            "0.8163265306122449\n"
          ],
          "name": "stdout"
        }
      ]
    }
  ]
}