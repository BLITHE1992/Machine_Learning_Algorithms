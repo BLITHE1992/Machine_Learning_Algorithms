{
  "nbformat": 4,
  "nbformat_minor": 0,
  "metadata": {
    "colab": {
      "name": "KNN Classifier.ipynb",
      "provenance": [],
      "collapsed_sections": []
    },
    "kernelspec": {
      "name": "python3",
      "display_name": "Python 3"
    }
  },
  "cells": [
    {
      "cell_type": "markdown",
      "metadata": {
        "id": "7AqXLpH1eh0r",
        "colab_type": "text"
      },
      "source": [
        "# **k-nearest neighbors algorithm**\n",
        "\n",
        "In pattern recognition, the k-nearest neighbors algorithm is a non-parametric method used for classification and regression. In both cases, the input consists of the k closest training examples in the feature space.\n",
        "\n",
        "By [Muhammad Huzaifa Shahbaz](https://www.linkedin.com/in/mhuzaifadev)"
      ]
    },
    {
      "cell_type": "markdown",
      "metadata": {
        "id": "EkXtM692ev1u",
        "colab_type": "text"
      },
      "source": [
        "## **Importing libraries**\n",
        "\n",
        "We will import NumPy as np, Pandas as *pd*, train_test_split & cross_val_score from sklearn.model_selection, confusion_matrix & accuracy_score from sklearn.metrics, KNeighborsClassifier from sklearn.neighbors and preprocessing  from sklearn."
      ]
    },
    {
      "cell_type": "code",
      "metadata": {
        "id": "hewapbOjdYLB",
        "colab_type": "code",
        "colab": {}
      },
      "source": [
        "import pandas as pd\n",
        "import numpy as np\n",
        "from sklearn.neighbors import KNeighborsClassifier\n",
        "from sklearn.model_selection import train_test_split\n",
        "from sklearn.model_selection import cross_val_score\n",
        "from sklearn.metrics import confusion_matrix\n",
        "from sklearn.metrics import accuracy_score\n",
        "from sklearn import preprocessing"
      ],
      "execution_count": 0,
      "outputs": []
    },
    {
      "cell_type": "markdown",
      "metadata": {
        "id": "PsAOn1BiC-_o",
        "colab_type": "text"
      },
      "source": [
        "## **DataFraming**\n",
        "\n",
        "Read .csv data into a Dataframe "
      ]
    },
    {
      "cell_type": "code",
      "metadata": {
        "id": "A9gmwPuuDTq7",
        "colab_type": "code",
        "outputId": "a25c3145-3b50-4fa2-c8c0-d83e4168d343",
        "colab": {
          "base_uri": "https://localhost:8080/",
          "height": 439
        }
      },
      "source": [
        "data = pd.read_csv(\"credit_data.csv\")\n",
        "print(data.head())\n",
        "print(data.describe())\n",
        "print(data.corr())"
      ],
      "execution_count": 22,
      "outputs": [
        {
          "output_type": "stream",
          "text": [
            "   clientid        income        age         loan       LTI  default\n",
            "0         1  66155.925095  59.017015  8106.532131  0.122537        0\n",
            "1         2  34415.153966  48.117153  6564.745018  0.190752        0\n",
            "2         3  57317.170063  63.108049  8020.953296  0.139940        0\n",
            "3         4  42709.534201  45.751972  6103.642260  0.142911        0\n",
            "4         5  66952.688845  18.584336  8770.099235  0.130989        1\n",
            "          clientid        income  ...          LTI      default\n",
            "count  2000.000000   2000.000000  ...  2000.000000  2000.000000\n",
            "mean   1000.500000  45331.600018  ...     0.098403     0.141500\n",
            "std     577.494589  14326.327119  ...     0.057620     0.348624\n",
            "min       1.000000  20014.489470  ...     0.000049     0.000000\n",
            "25%     500.750000  32796.459717  ...     0.047903     0.000000\n",
            "50%    1000.500000  45789.117313  ...     0.099437     0.000000\n",
            "75%    1500.250000  57791.281668  ...     0.147585     0.000000\n",
            "max    2000.000000  69995.685578  ...     0.199938     1.000000\n",
            "\n",
            "[8 rows x 6 columns]\n",
            "          clientid    income       age      loan       LTI   default\n",
            "clientid  1.000000  0.039280 -0.030341  0.018931  0.002538 -0.020145\n",
            "income    0.039280  1.000000 -0.034984  0.441117 -0.019862  0.002284\n",
            "age      -0.030341 -0.034984  1.000000  0.006561  0.021588 -0.444765\n",
            "loan      0.018931  0.441117  0.006561  1.000000  0.847495  0.377160\n",
            "LTI       0.002538 -0.019862  0.021588  0.847495  1.000000  0.433261\n",
            "default  -0.020145  0.002284 -0.444765  0.377160  0.433261  1.000000\n"
          ],
          "name": "stdout"
        }
      ]
    },
    {
      "cell_type": "markdown",
      "metadata": {
        "id": "N0c60VUJEfr-",
        "colab_type": "text"
      },
      "source": [
        "## **Features Extraction**\n",
        "\n",
        "Extracting features and splitting data into test and train."
      ]
    },
    {
      "cell_type": "code",
      "metadata": {
        "id": "X4X2kjPahc0V",
        "colab_type": "code",
        "colab": {
          "base_uri": "https://localhost:8080/",
          "height": 107
        },
        "outputId": "8578c424-511f-48fd-870a-20a87293bf4d"
      },
      "source": [
        "data.features = data[[\"income\",\"age\",\"loan\"]]\n",
        "data.target = data.default\n",
        "\n",
        "data.features = preprocessing.MinMaxScaler().fit_transform(data.features)\n",
        "\n",
        "feature_train, feature_test, target_train, target_test = train_test_split(data.features,data.target)"
      ],
      "execution_count": 23,
      "outputs": [
        {
          "output_type": "stream",
          "text": [
            "/usr/local/lib/python3.6/dist-packages/ipykernel_launcher.py:1: UserWarning: Pandas doesn't allow columns to be created via a new attribute name - see https://pandas.pydata.org/pandas-docs/stable/indexing.html#attribute-access\n",
            "  \"\"\"Entry point for launching an IPython kernel.\n",
            "/usr/local/lib/python3.6/dist-packages/ipykernel_launcher.py:2: UserWarning: Pandas doesn't allow columns to be created via a new attribute name - see https://pandas.pydata.org/pandas-docs/stable/indexing.html#attribute-access\n",
            "  \n"
          ],
          "name": "stderr"
        }
      ]
    },
    {
      "cell_type": "markdown",
      "metadata": {
        "id": "nHxk6jzYLx0m",
        "colab_type": "text"
      },
      "source": [
        "## **Training the Model**\n",
        "\n",
        "We are using KNeighborsClassifier model as imported from sklearn.neighbors library and then it's being trained on feature_train and target_train"
      ]
    },
    {
      "cell_type": "code",
      "metadata": {
        "id": "zcVLyHh3L5Rv",
        "colab_type": "code",
        "colab": {}
      },
      "source": [
        "model = KNeighborsClassifier(n_neighbors=32)\n",
        "fitModel = model.fit(feature_train, target_train)\n",
        "predictions = fitModel.predict(feature_test)"
      ],
      "execution_count": 0,
      "outputs": []
    },
    {
      "cell_type": "markdown",
      "metadata": {
        "colab_type": "text",
        "id": "MldzyDb_kWJt"
      },
      "source": [
        "## **Finding Optimal K Value**\n",
        "\n",
        "We are going to use cross-validation in order to find the optimal k value. This optimal value is not going to have as good accuracy and precision as we have seen for any neighbors close to ***n*** but it is going to be much more realistic because we use cross-validation. So we are going to use the cross-validation scores and then we are going to make a simple iteration. Basically we are going to consider k values from 1 up to 100.\n"
      ]
    },
    {
      "cell_type": "code",
      "metadata": {
        "id": "MMj7k6ETlAmD",
        "colab_type": "code",
        "colab": {
          "base_uri": "https://localhost:8080/",
          "height": 34
        },
        "outputId": "f37a8951-0e7a-4499-d3a0-ef1f62acd9bb"
      },
      "source": [
        "cross_valid_scores = []\n",
        "\n",
        "for k in range(1, 100):\n",
        "  knn = KNeighborsClassifier(n_neighbors = k)\n",
        "  scores = cross_val_score(knn,data.features, data.target, cv = 10, scoring = 'accuracy')\n",
        "  cross_valid_scores.append(scores.mean())\n",
        "\n",
        "print(\"Optimal k with cross-validation: \\t\",np.argmax(cross_valid_scores))"
      ],
      "execution_count": 26,
      "outputs": [
        {
          "output_type": "stream",
          "text": [
            "Optimal k with cross-validation: \t 32\n"
          ],
          "name": "stdout"
        }
      ]
    },
    {
      "cell_type": "markdown",
      "metadata": {
        "id": "tFBsaZpeMdIa",
        "colab_type": "text"
      },
      "source": [
        "## **Printing an Error Matrix and Accuracy Score**"
      ]
    },
    {
      "cell_type": "code",
      "metadata": {
        "id": "urqzo3v7MzYp",
        "colab_type": "code",
        "outputId": "fd356366-5a2d-4b70-bad5-1ebda9f26903",
        "colab": {
          "base_uri": "https://localhost:8080/",
          "height": 70
        }
      },
      "source": [
        "print(confusion_matrix(target_test,predictions))\n",
        "print(accuracy_score(target_test,predictions))"
      ],
      "execution_count": 28,
      "outputs": [
        {
          "output_type": "stream",
          "text": [
            "[[437   2]\n",
            " [ 10  51]]\n",
            "0.976\n"
          ],
          "name": "stdout"
        }
      ]
    }
  ]
}