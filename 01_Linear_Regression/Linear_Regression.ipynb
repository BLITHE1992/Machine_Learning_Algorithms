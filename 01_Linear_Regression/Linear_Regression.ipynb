{
  "nbformat": 4,
  "nbformat_minor": 0,
  "metadata": {
    "colab": {
      "name": "Linear Regression.ipynb",
      "provenance": [],
      "collapsed_sections": []
    },
    "kernelspec": {
      "name": "python3",
      "display_name": "Python 3"
    }
  },
  "cells": [
    {
      "cell_type": "markdown",
      "metadata": {
        "id": "jPpVjmofy4u6",
        "colab_type": "text"
      },
      "source": [
        "# **Linear Regression**\n",
        "\n",
        "Linear regression is a common Statistical Data Analysis technique. It is used to determine the extent to which there is a linear relationship between a dependent variable and one or more independent variables.\n",
        "\n",
        "We have implemented here using Python libraries and a ***headbrain.csv*** dataset (from Kaggle). \n",
        "\n",
        "By [Muhammad Huzaifa Shahbaz](https://www.linkedin.com/in/mhuzaifadev)"
      ]
    },
    {
      "cell_type": "markdown",
      "metadata": {
        "id": "QI18bF5Jutaa",
        "colab_type": "text"
      },
      "source": [
        "## **Importing libraries**\n",
        "\n",
        "We will import NumPy library as *np*, Pandas as *pd*, math, Matplotlib as *plt*, mean_squared_error from sklearn.metrics and Linear regression from sklearn.linear_model.   "
      ]
    },
    {
      "cell_type": "code",
      "metadata": {
        "id": "DU794seugbR3",
        "colab_type": "code",
        "colab": {}
      },
      "source": [
        "import numpy as np\n",
        "import pandas as pd\n",
        "import matplotlib.pyplot as plt\n",
        "from sklearn.linear_model import LinearRegression\n",
        "from sklearn.metrics import mean_squared_error\n",
        "import math "
      ],
      "execution_count": 0,
      "outputs": []
    },
    {
      "cell_type": "markdown",
      "metadata": {
        "id": "qdBizDuGv6U1",
        "colab_type": "text"
      },
      "source": [
        "## **DataFraming**\n",
        "\n",
        "Read .csv data into a Dataframe"
      ]
    },
    {
      "cell_type": "code",
      "metadata": {
        "id": "YNmbLZUewP0q",
        "colab_type": "code",
        "colab": {
          "base_uri": "https://localhost:8080/",
          "height": 439
        },
        "outputId": "e0c9f03e-b602-4573-b77d-298005bfd0d9"
      },
      "source": [
        "dataset = pd.read_csv(\"./headbrain.csv\")\n",
        "size = dataset['Head Size(cm^3)']\n",
        "weight = dataset['Brain Weight(grams)']\n",
        "\n",
        "print(size)\n",
        "print(weight)"
      ],
      "execution_count": 2,
      "outputs": [
        {
          "output_type": "stream",
          "text": [
            "0      4512\n",
            "1      3738\n",
            "2      4261\n",
            "3      3777\n",
            "4      4177\n",
            "       ... \n",
            "232    3214\n",
            "233    3394\n",
            "234    3233\n",
            "235    3352\n",
            "236    3391\n",
            "Name: Head Size(cm^3), Length: 237, dtype: int64\n",
            "0      1530\n",
            "1      1297\n",
            "2      1335\n",
            "3      1282\n",
            "4      1590\n",
            "       ... \n",
            "232    1110\n",
            "233    1215\n",
            "234    1104\n",
            "235    1170\n",
            "236    1120\n",
            "Name: Brain Weight(grams), Length: 237, dtype: int64\n"
          ],
          "name": "stdout"
        }
      ]
    },
    {
      "cell_type": "markdown",
      "metadata": {
        "id": "-Lo-TWfLyHZd",
        "colab_type": "text"
      },
      "source": [
        "## **Converting dataframes into NumPy Arrays**\n",
        "\n",
        "Machine Learning handle arrays not dataframes"
      ]
    },
    {
      "cell_type": "code",
      "metadata": {
        "id": "h9-uO1pcyyUP",
        "colab_type": "code",
        "colab": {}
      },
      "source": [
        " x = np.array(size).reshape(-1,1)\n",
        " y = np.array(weight).reshape(-1,1)"
      ],
      "execution_count": 0,
      "outputs": []
    },
    {
      "cell_type": "markdown",
      "metadata": {
        "id": "XiPwFWyEy2oc",
        "colab_type": "text"
      },
      "source": [
        "## **Training the Model**\n",
        "\n",
        "We are using Linear regression model as imported from sklearn library and then it's being trained on x and y (any 2 major axis of datasets)"
      ]
    },
    {
      "cell_type": "code",
      "metadata": {
        "id": "-8bgiHGp0ELK",
        "colab_type": "code",
        "colab": {
          "base_uri": "https://localhost:8080/",
          "height": 34
        },
        "outputId": "f04ef507-4042-423e-e548-c30395f9884d"
      },
      "source": [
        "model = LinearRegression()\n",
        "model.fit(x,y)"
      ],
      "execution_count": 4,
      "outputs": [
        {
          "output_type": "execute_result",
          "data": {
            "text/plain": [
              "LinearRegression(copy_X=True, fit_intercept=True, n_jobs=None, normalize=False)"
            ]
          },
          "metadata": {
            "tags": []
          },
          "execution_count": 4
        }
      ]
    },
    {
      "cell_type": "markdown",
      "metadata": {
        "id": "j2Fy1UoQ0G2g",
        "colab_type": "text"
      },
      "source": [
        "## **Mean Sqaured Error & R - Squared Value**\n",
        "\n",
        "The **mean squared error** or mean squared deviation of an estimator measures the average of the squares of the errors—that is, the average squared difference between the estimated values and the actual value. MSE is a risk function, corresponding to the expected value of the squared error loss.\n",
        "\n",
        "The **coefficient of determination**, denoted R² or r² and pronounced \"R squared\", is the proportion of the variance in the dependent variable that is predictable from the independent variable."
      ]
    },
    {
      "cell_type": "code",
      "metadata": {
        "id": "K8UKYT-F08nX",
        "colab_type": "code",
        "colab": {
          "base_uri": "https://localhost:8080/",
          "height": 52
        },
        "outputId": "57af052f-9bbe-42da-f5d5-f6e5c7b27d35"
      },
      "source": [
        "regression_model_mse = mean_squared_error(x,y)\n",
        "print('Mean Squared Error:\\t',math.sqrt(regression_model_mse))\n",
        "print(\"R squared value\\t\\t\",model.score(x,y))"
      ],
      "execution_count": 7,
      "outputs": [
        {
          "output_type": "stream",
          "text": [
            "Mean Squared Error:\t 2367.495611943946\n",
            "R squared value\t\t 0.639311719957\n"
          ],
          "name": "stdout"
        }
      ]
    },
    {
      "cell_type": "markdown",
      "metadata": {
        "id": "bMnyRGHT1hmT",
        "colab_type": "text"
      },
      "source": [
        "**Getting b values after the model fit**\n",
        "\n",
        "Thus the b0 and b1"
      ]
    },
    {
      "cell_type": "code",
      "metadata": {
        "id": "qRV2OMY_12kP",
        "colab_type": "code",
        "colab": {
          "base_uri": "https://localhost:8080/",
          "height": 52
        },
        "outputId": "40482de6-966d-419c-8aa1-a32d20bc931a"
      },
      "source": [
        "print(model.coef_[0])\n",
        "print(model.intercept_[0])"
      ],
      "execution_count": 8,
      "outputs": [
        {
          "output_type": "stream",
          "text": [
            "[0.26342934]\n",
            "325.5734210494426\n"
          ],
          "name": "stdout"
        }
      ]
    },
    {
      "cell_type": "markdown",
      "metadata": {
        "id": "8FU4kKET2Drz",
        "colab_type": "text"
      },
      "source": [
        "## **Visualization**\n",
        "\n",
        "Visualize the dataset with the fitted model using matplotlib."
      ]
    },
    {
      "cell_type": "code",
      "metadata": {
        "id": "NgDeBCym2S3x",
        "colab_type": "code",
        "colab": {
          "base_uri": "https://localhost:8080/",
          "height": 313
        },
        "outputId": "0936b932-374c-4f3a-f60f-89f9cd79557e"
      },
      "source": [
        "plt.scatter(x,y, color = 'orange')\n",
        "plt.plot(x,model.predict(x), color = 'black')\n",
        "plt.title('Linear Regression')\n",
        "plt.xlabel('Head Size')\n",
        "plt.ylabel('Brain Weight')"
      ],
      "execution_count": 12,
      "outputs": [
        {
          "output_type": "execute_result",
          "data": {
            "text/plain": [
              "Text(0, 0.5, 'Brain Weight')"
            ]
          },
          "metadata": {
            "tags": []
          },
          "execution_count": 12
        },
        {
          "output_type": "display_data",
          "data": {
            "image/png": "[encoded data removed]",
            "text/plain": [
              "<Figure size 432x288 with 1 Axes>"
            ]
          },
          "metadata": {
            "tags": [],
            "needs_background": "light"
          }
        }
      ]
    },
    {
      "cell_type": "markdown",
      "metadata": {
        "id": "HUgdZsIp6vKx",
        "colab_type": "text"
      },
      "source": [
        "## **Prediction**\n",
        "\n",
        "We will predict the Brain weight by giving an input of Brain Size"
      ]
    },
    {
      "cell_type": "code",
      "metadata": {
        "id": "TfgYfaHk67kX",
        "colab_type": "code",
        "colab": {
          "base_uri": "https://localhost:8080/",
          "height": 34
        },
        "outputId": "c6adf2de-9904-4337-c5ea-91a8b0534c23"
      },
      "source": [
        "print('Prediction by the model:\\t', model.predict([[2000]]))"
      ],
      "execution_count": 14,
      "outputs": [
        {
          "output_type": "stream",
          "text": [
            "Prediction by the model:\t [[852.43210003]]\n"
          ],
          "name": "stdout"
        }
      ]
    }
  ]
}