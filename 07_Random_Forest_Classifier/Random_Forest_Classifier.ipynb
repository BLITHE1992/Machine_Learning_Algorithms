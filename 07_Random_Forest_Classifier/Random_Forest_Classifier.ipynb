{
  "nbformat": 4,
  "nbformat_minor": 0,
  "metadata": {
    "colab": {
      "name": "Random Forest Classifier.ipynb",
      "provenance": [],
      "toc_visible": true
    },
    "kernelspec": {
      "name": "python3",
      "display_name": "Python 3"
    },
    "accelerator": "TPU"
  },
  "cells": [
    {
      "cell_type": "markdown",
      "metadata": {
        "id": "HFenp3yV-gcO",
        "colab_type": "text"
      },
      "source": [
        "## **Random Forest Classifier**\n",
        "\n",
        "Random forests or random decision forests are an ensemble learning method for classification, regression and other tasks that operate by constructing a multitude of decision trees at training time and outputting the class that is the mode of the classes (classification) or mean prediction (regression) of the individual trees. Random decision forests correct for decision trees' habit of overfitting to their training set.\n",
        "\n",
        "By [Muhammad Huzaifa Shahbaz](https://www.linkedin.com/in/mhuzaifadev)"
      ]
    },
    {
      "cell_type": "code",
      "metadata": {
        "id": "_Q3IKg22Prjs",
        "colab_type": "code",
        "colab": {}
      },
      "source": [
        "import pandas as pd\n",
        "from sklearn.ensemble import RandomForestClassifier\n",
        "from sklearn.metrics import accuracy_score, confusion_matrix\n",
        "from sklearn.model_selection import train_test_split, GridSearchCV, cross_val_predict, KFold\n",
        "from sklearn import datasets"
      ],
      "execution_count": 0,
      "outputs": []
    },
    {
      "cell_type": "markdown",
      "metadata": {
        "id": "7H35nRxvE4gp",
        "colab_type": "text"
      },
      "source": [
        "## **Dataset Loading**\n",
        "\n",
        "We will load data from the csv dataset"
      ]
    },
    {
      "cell_type": "code",
      "metadata": {
        "id": "eT6Vu1-0F3jF",
        "colab_type": "code",
        "colab": {}
      },
      "source": [
        "credit_data = pd.read_csv(\"./credit_data.csv\")"
      ],
      "execution_count": 0,
      "outputs": []
    },
    {
      "cell_type": "markdown",
      "metadata": {
        "id": "N0c60VUJEfr-",
        "colab_type": "text"
      },
      "source": [
        "## **Features Extraction**\n",
        "\n",
        "To apply a classifier on this data, we need to extract features and target data and split it into test and train."
      ]
    },
    {
      "cell_type": "code",
      "metadata": {
        "id": "CLm4haVcGf-N",
        "colab_type": "code",
        "colab": {}
      },
      "source": [
        "features = credit_data[[\"income\",\"age\",\"loan\"]]\n",
        "targets = credit_data.default\n",
        "\n",
        "feature_train, feature_test, target_train, target_test = train_test_split(features,targets,test_size=0.2)"
      ],
      "execution_count": 0,
      "outputs": []
    },
    {
      "cell_type": "markdown",
      "metadata": {
        "id": "avcFhrNaO1TB",
        "colab_type": "text"
      },
      "source": [
        "## **Finding an Optimal Value**\n",
        "\n",
        "It may take upto 45min in execution on Colab or maybe hours in your local desktop, based on processing power."
      ]
    },
    {
      "cell_type": "code",
      "metadata": {
        "id": "CFjn9HyMO1ml",
        "colab_type": "code",
        "outputId": "52f211e1-ecd3-4126-b430-33d726f99110",
        "colab": {
          "base_uri": "https://localhost:8080/",
          "height": 34
        }
      },
      "source": [
        "param_grid = {\n",
        "    'max_depth': [1,5,10,15],\n",
        "    'n_estimators' : [10,100,500,1000],\n",
        "    'min_samples_leaf' : [1,2,3,4,5,10,15,20,30,40,50]\n",
        "    }\n",
        "\n",
        "grid_search = GridSearchCV(estimator=RandomForestClassifier(n_jobs=-1,max_features = 'sqrt'), param_grid=param_grid,cv=10)\n",
        "grid_search.fit(feature_train, target_train)\n",
        "\n",
        "print(grid_search.best_params_)\n",
        "\n",
        "optimal_estimators = grid_search.best_params_.get(\"n_estimators\")\n",
        "optimal_depth = grid_search.best_params_.get(\"max_depth\")\n",
        "optimal_leaf = grid_search.best_params_.get(\"min_samples_leaf\")"
      ],
      "execution_count": 14,
      "outputs": [
        {
          "output_type": "stream",
          "text": [
            "{'max_depth': 10, 'min_samples_leaf': 3, 'n_estimators': 100}\n"
          ],
          "name": "stdout"
        }
      ]
    },
    {
      "cell_type": "markdown",
      "metadata": {
        "id": "nHxk6jzYLx0m",
        "colab_type": "text"
      },
      "source": [
        "## **Training the Model**\n",
        "\n",
        "We will use Random Forest Classifier for training the model."
      ]
    },
    {
      "cell_type": "code",
      "metadata": {
        "id": "1eAhZM71COWr",
        "colab_type": "code",
        "colab": {
          "base_uri": "https://localhost:8080/",
          "height": 71
        },
        "outputId": "b79a709a-19e6-4276-b62a-5ed95564495c"
      },
      "source": [
        "best_model = RandomForestClassifier(n_estimators=optimal_estimators, max_depth = optimal_depth,min_samples_leaf = optimal_leaf)\n",
        "k_fold = KFold(n_splits=10,random_state=123)\n",
        "\n",
        "predictions = cross_val_predict(best_model,feature_test,target_test,cv=k_fold)"
      ],
      "execution_count": 25,
      "outputs": [
        {
          "output_type": "stream",
          "text": [
            "/usr/local/lib/python3.6/dist-packages/sklearn/model_selection/_split.py:296: FutureWarning: Setting a random_state has no effect since shuffle is False. This will raise an error in 0.24. You should leave random_state to its default (None), or set shuffle=True.\n",
            "  FutureWarning\n"
          ],
          "name": "stderr"
        }
      ]
    },
    {
      "cell_type": "markdown",
      "metadata": {
        "id": "tFBsaZpeMdIa",
        "colab_type": "text"
      },
      "source": [
        "## **Printing an Error Matrix and Accuracy Score**"
      ]
    },
    {
      "cell_type": "code",
      "metadata": {
        "id": "urqzo3v7MzYp",
        "colab_type": "code",
        "outputId": "5b90dcf4-982d-45b2-b5ab-8b27ce130490",
        "colab": {
          "base_uri": "https://localhost:8080/",
          "height": 68
        }
      },
      "source": [
        "print(confusion_matrix(target_test,predictions))\n",
        "print(accuracy_score(target_test,predictions))"
      ],
      "execution_count": 27,
      "outputs": [
        {
          "output_type": "stream",
          "text": [
            "[[336   6]\n",
            " [ 13  45]]\n",
            "0.9525\n"
          ],
          "name": "stdout"
        }
      ]
    }
  ]
}