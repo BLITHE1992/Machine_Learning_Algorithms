{
  "nbformat": 4,
  "nbformat_minor": 0,
  "metadata": {
    "colab": {
      "name": "K Means Clustering.ipynb",
      "provenance": [],
      "collapsed_sections": []
    },
    "kernelspec": {
      "name": "python3",
      "display_name": "Python 3"
    },
    "accelerator": "TPU"
  },
  "cells": [
    {
      "cell_type": "markdown",
      "metadata": {
        "id": "lL35lKpnTYH1",
        "colab_type": "text"
      },
      "source": [
        "## **K Means Clustering**\n",
        "\n",
        "k-means clustering is a method of vector quantization, originally from signal processing, that aims to partition n observations into k clusters in which each observation belongs to the cluster with the nearest mean, serving as a prototype of the cluster."
      ]
    },
    {
      "cell_type": "markdown",
      "metadata": {
        "id": "j3F3bpdAWNCO",
        "colab_type": "text"
      },
      "source": [
        "## **Importing Libraries**"
      ]
    },
    {
      "cell_type": "code",
      "metadata": {
        "id": "-Hr1KUL9piT0",
        "colab_type": "code",
        "colab": {
          "base_uri": "https://localhost:8080/",
          "height": 90
        },
        "outputId": "e807b520-d422-4548-e063-ba18d159bc26"
      },
      "source": [
        "import collections\n",
        "import nltk\n",
        "nltk.download('stopwords')\n",
        "nltk.download('punkt')\n",
        "from nltk import word_tokenize\n",
        "from nltk.corpus import stopwords\n",
        "from nltk.stem import PorterStemmer\n",
        "from sklearn.cluster import KMeans\n",
        "from sklearn.feature_extraction.text import TfidfVectorizer\n",
        "from pprint import pprint"
      ],
      "execution_count": 17,
      "outputs": [
        {
          "output_type": "stream",
          "text": [
            "[nltk_data] Downloading package stopwords to /root/nltk_data...\n",
            "[nltk_data]   Package stopwords is already up-to-date!\n",
            "[nltk_data] Downloading package punkt to /root/nltk_data...\n",
            "[nltk_data]   Package punkt is already up-to-date!\n"
          ],
          "name": "stdout"
        }
      ]
    },
    {
      "cell_type": "markdown",
      "metadata": {
        "id": "4anySMcgqROX",
        "colab_type": "text"
      },
      "source": [
        "## **Defining a function tokenizer(text)**\n",
        "\n"
      ]
    },
    {
      "cell_type": "code",
      "metadata": {
        "id": "YFXxYQrUqoPA",
        "colab_type": "code",
        "colab": {}
      },
      "source": [
        "def tokenizer(text):\n",
        "  tokens = word_tokenize(text)\n",
        "  stemmer = PorterStemmer()\n",
        "  tokens = [stemmer.stem(t) for t in tokens if t not in stopwords.words('english')]\n",
        "  return tokens"
      ],
      "execution_count": 0,
      "outputs": []
    },
    {
      "cell_type": "markdown",
      "metadata": {
        "colab_type": "text",
        "id": "NHTdg_vevRu1"
      },
      "source": [
        "## **Defining a function cluster_sentences(sentences,k=(int))**\n",
        "\n",
        "### ***(KMeans Clustering)***\n",
        "\n"
      ]
    },
    {
      "cell_type": "code",
      "metadata": {
        "id": "LuBTUARBvtpu",
        "colab_type": "code",
        "colab": {}
      },
      "source": [
        "def cluster_sentences(sentences, k):\n",
        "  #Create tf ifd again: stopwords--> we filter out common words (I,my, the,and...)\n",
        "  tfidf_vectorizer = TfidfVectorizer(tokenizer=tokenizer, stop_words=stopwords.words('english'),lowercase=True)\n",
        "  #builds a tf-idf matrix for the sentences \n",
        "  tfidf_matrix = tfidf_vectorizer.fit_transform(sentences)\n",
        "  kmeans = KMeans(n_clusters=k)\n",
        "  kmeans.fit(tfidf_matrix)\n",
        "  clusters = collections.defaultdict(list)\n",
        "  for i, label in enumerate(kmeans.labels_):\n",
        "    clusters[label].append(i)\n",
        "  return dict(clusters)"
      ],
      "execution_count": 0,
      "outputs": []
    },
    {
      "cell_type": "markdown",
      "metadata": {
        "id": "cqOBCOx9xbU6",
        "colab_type": "text"
      },
      "source": [
        "## **Main Body**"
      ]
    },
    {
      "cell_type": "code",
      "metadata": {
        "id": "ZZ1rKmCxxcLy",
        "colab_type": "code",
        "colab": {
          "base_uri": "https://localhost:8080/",
          "height": 492
        },
        "outputId": "7794636e-593b-4bfa-d598-e8202fa0b304"
      },
      "source": [
        "if __name__ == \"__main__\":\n",
        "  sentences= [\"Graphics designers are most creative people\",\n",
        "              \"Snooker is a billiards sport for normally two players.\",\n",
        "              \"Snooker is played on a large (12 feet by 6 feet) table that is covered with a smooth green material.\",\n",
        "              \"FOREX is the stock market for trading currencies\",\n",
        "              \"Software Engineering is hotter and hotter topic in Silicon Valley\",\n",
        "              \"Love is blind\",\n",
        "              \"Snooker is popular in the United Kingdom and many other countries.\",\n",
        "              \"The flying or operating of aircraft is known as aviation.\",\n",
        "              \"Falling in love is like being on drugs.\",\n",
        "              \"Warren Buffet is famous for making good investments.He knows stock markets\",\n",
        "              \"The biggest of the many uses of aviation are in air travel and military aircraft.\",\n",
        "              \"All giant majors in Silicon Valley is focusing AI for their business productivity\",\n",
        "              \"Investing in stocks and trading with them are not that easy\",\n",
        "              \"Being in love is the number one reason why people wed.\",\n",
        "              \"Aviation refers to flying using an aircraft, like an aeroplane.\",\n",
        "              \"Graphics Designing is high rated freelance subject\",\n",
        "              \"Loving from a long distance actually strengthens a relationship.\"\n",
        "              ]\n",
        "  k = 6\n",
        "  clusters = cluster_sentences(sentences,k)\n",
        "  for cluster in range (k):\n",
        "    print(\"CLUSTER \",cluster,\":\")\n",
        "    for i, sentence in enumerate(clusters[cluster]):\n",
        "      print(\"\\t\",(i+1),\": \",sentences[sentence])\n"
      ],
      "execution_count": 27,
      "outputs": [
        {
          "output_type": "stream",
          "text": [
            "CLUSTER  0 :\n",
            "\t 1 :  Software Engineering is hotter and hotter topic in Silicon Valley\n",
            "\t 2 :  All giant majors in Silicon Valley is focusing AI for their business productivity\n",
            "CLUSTER  1 :\n",
            "\t 1 :  Snooker is a billiards sport for normally two players.\n",
            "\t 2 :  Snooker is played on a large (12 feet by 6 feet) table that is covered with a smooth green material.\n",
            "\t 3 :  Snooker is popular in the United Kingdom and many other countries.\n",
            "CLUSTER  2 :\n",
            "\t 1 :  Love is blind\n",
            "\t 2 :  Falling in love is like being on drugs.\n",
            "\t 3 :  Being in love is the number one reason why people wed.\n",
            "\t 4 :  Loving from a long distance actually strengthens a relationship.\n",
            "CLUSTER  3 :\n",
            "\t 1 :  FOREX is the stock market for trading currencies\n",
            "\t 2 :  Warren Buffet is famous for making good investments.He knows stock markets\n",
            "\t 3 :  Investing in stocks and trading with them are not that easy\n",
            "CLUSTER  4 :\n",
            "\t 1 :  Graphics designers are most creative people\n",
            "\t 2 :  Graphics Designing is high rated freelance subject\n",
            "CLUSTER  5 :\n",
            "\t 1 :  The flying or operating of aircraft is known as aviation.\n",
            "\t 2 :  The biggest of the many uses of aviation are in air travel and military aircraft.\n",
            "\t 3 :  Aviation refers to flying using an aircraft, like an aeroplane.\n"
          ],
          "name": "stdout"
        },
        {
          "output_type": "stream",
          "text": [
            "/usr/local/lib/python3.6/dist-packages/sklearn/feature_extraction/text.py:385: UserWarning: Your stop_words may be inconsistent with your preprocessing. Tokenizing the stop words generated tokens [\"'d\", \"'ll\", \"'re\", \"'s\", \"'ve\", 'could', 'might', 'must', \"n't\", 'need', 'sha', 'wo', 'would'] not in stop_words.\n",
            "  'stop_words.' % sorted(inconsistent))\n"
          ],
          "name": "stderr"
        }
      ]
    }
  ]
}