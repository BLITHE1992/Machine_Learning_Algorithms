{
  "nbformat": 4,
  "nbformat_minor": 0,
  "metadata": {
    "colab": {
      "name": "Hierarchical Clustering.ipynb",
      "provenance": []
    },
    "kernelspec": {
      "name": "python3",
      "display_name": "Python 3"
    }
  },
  "cells": [
    {
      "cell_type": "markdown",
      "metadata": {
        "id": "OTbnV4K1CV4i",
        "colab_type": "text"
      },
      "source": [
        "## **Hierarchical Clustering**\n",
        "\n",
        "Hierarchical clustering, also known as hierarchical cluster analysis, is an algorithm that groups similar objects into groups called clusters. The endpoint is a set of clusters, where each cluster is distinct from each other cluster, and the objects within each cluster are broadly similar to each other."
      ]
    },
    {
      "cell_type": "markdown",
      "metadata": {
        "id": "j3F3bpdAWNCO",
        "colab_type": "text"
      },
      "source": [
        "## **Importing Libraries**"
      ]
    },
    {
      "cell_type": "code",
      "metadata": {
        "id": "CPIMeNgoCjZL",
        "colab_type": "code",
        "colab": {
          "base_uri": "https://localhost:8080/",
          "height": 70
        },
        "outputId": "f4425e29-071b-42c2-a14e-54c7e4af4c89"
      },
      "source": [
        "import matplotlib.pyplot as plt\n",
        "from scipy.cluster.hierarchy import linkage, dendrogram\n",
        "from sklearn.datasets.samples_generator import make_blobs\n",
        "import numpy as np"
      ],
      "execution_count": 2,
      "outputs": [
        {
          "output_type": "stream",
          "text": [
            "/usr/local/lib/python3.6/dist-packages/sklearn/utils/deprecation.py:144: FutureWarning: The sklearn.datasets.samples_generator module is  deprecated in version 0.22 and will be removed in version 0.24. The corresponding classes / functions should instead be imported from sklearn.datasets. Anything that cannot be imported from sklearn.datasets is now part of the private API.\n",
            "  warnings.warn(message, FutureWarning)\n"
          ],
          "name": "stderr"
        }
      ]
    },
    {
      "cell_type": "markdown",
      "metadata": {
        "id": "4anySMcgqROX",
        "colab_type": "text"
      },
      "source": [
        "## **Dataset Loading**\n",
        "\n"
      ]
    },
    {
      "cell_type": "code",
      "metadata": {
        "id": "H2fQIxhZDJa2",
        "colab_type": "code",
        "colab": {
          "base_uri": "https://localhost:8080/",
          "height": 264
        },
        "outputId": "96955c3c-9304-4bb4-8971-d9445d6a4d6f"
      },
      "source": [
        "x = np.array([[1,1],[1.5,1],[3,8],[4,4],[3,3.5],[3.5,4]])\n",
        "plt.scatter(x[:,0],x[:,1],s=50)\n",
        "\n",
        "plt.show()"
      ],
      "execution_count": 5,
      "outputs": [
        {
          "output_type": "display_data",
          "data": {
            "image/png": "[encoded data removed]",
            "text/plain": [
              "<Figure size 432x288 with 1 Axes>"
            ]
          },
          "metadata": {
            "tags": [],
            "needs_background": "light"
          }
        }
      ]
    },
    {
      "cell_type": "markdown",
      "metadata": {
        "id": "3OY0KOqzO7dy",
        "colab_type": "text"
      },
      "source": [
        "## **Nearest Point Algorithm**"
      ]
    },
    {
      "cell_type": "code",
      "metadata": {
        "id": "S7fTugJUPG6y",
        "colab_type": "code",
        "colab": {
          "base_uri": "https://localhost:8080/",
          "height": 100
        },
        "outputId": "5b0f6c8a-4e7f-4257-b31c-f1cec265a84c"
      },
      "source": [
        "linkage_matrix = linkage(x,\"complete\")\n",
        "print(linkage_matrix)"
      ],
      "execution_count": 6,
      "outputs": [
        {
          "output_type": "stream",
          "text": [
            "[[0.         1.         0.5        2.        ]\n",
            " [3.         5.         0.5        2.        ]\n",
            " [4.         7.         1.11803399 3.        ]\n",
            " [6.         8.         4.24264069 5.        ]\n",
            " [2.         9.         7.28010989 6.        ]]\n"
          ],
          "name": "stdout"
        }
      ]
    },
    {
      "cell_type": "markdown",
      "metadata": {
        "id": "EztAqL_GPNEM",
        "colab_type": "text"
      },
      "source": [
        "## **Pruning Tree Like Structure with Tuncade Mode**"
      ]
    },
    {
      "cell_type": "code",
      "metadata": {
        "id": "48lpPyFzPNZo",
        "colab_type": "code",
        "colab": {
          "base_uri": "https://localhost:8080/",
          "height": 284
        },
        "outputId": "890ef2c7-c1e6-4f20-f4bf-b63a6a862c84"
      },
      "source": [
        "dendrogram = dendrogram(linkage_matrix,truncate_mode='none')\n",
        "plt.title(\"Hierarchical Clustering\")\n",
        "plt.show()"
      ],
      "execution_count": 8,
      "outputs": [
        {
          "output_type": "display_data",
          "data": {
            "image/png": "[encoded data removed]",
            "text/plain": [
              "<Figure size 432x288 with 1 Axes>"
            ]
          },
          "metadata": {
            "tags": [],
            "needs_background": "light"
          }
        }
      ]
    }
  ]
}